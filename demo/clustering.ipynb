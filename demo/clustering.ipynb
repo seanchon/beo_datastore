{
 "cells": [
  {
   "cell_type": "markdown",
   "metadata": {
    "slideshow": {
     "slide_type": "slide"
    }
   },
   "source": [
    "Load Clustering Using K-Means Algorithm\n",
    "(Note: Meter data needs to be imported prior to clustering.)"
   ]
  },
  {
   "cell_type": "code",
   "execution_count": null,
   "metadata": {
    "slideshow": {
     "slide_type": "skip"
    }
   },
   "outputs": [],
   "source": [
    "import os, sys\n",
    "PWD = os.getenv('PWD')\n",
    "os.chdir(PWD)\n",
    "sys.path.insert(0, os.getenv('PWD'))\n",
    "os.environ.setdefault(\"DJANGO_SETTINGS_MODULE\", \"local_settings.py\")\n",
    "import django\n",
    "django.setup()"
   ]
  },
  {
   "cell_type": "code",
   "execution_count": null,
   "metadata": {
    "slideshow": {
     "slide_type": "skip"
    }
   },
   "outputs": [],
   "source": [
    "from beo_datastore.libs.clustering import KMeansLoadClustering\n",
    "from beo_datastore.libs.intervalframe import ValidationFrame288\n",
    "from beo_datastore.libs.plot_intervalframe import plot_frame288, plot_many_frame288s\n",
    "\n",
    "from load.customer.models import Meter"
   ]
  },
  {
   "cell_type": "code",
   "execution_count": null,
   "metadata": {
    "slideshow": {
     "slide_type": "slide"
    }
   },
   "outputs": [],
   "source": [
    "# Configure Clustering\n",
    "normalize = False\n",
    "number_of_clusters = 6\n",
    "# choices are \"average_frame288\", \"minimum_frame288\", \"maximum_frame288\", \"total_frame288\", \"count_frame288\"\n",
    "frame288_type = \"maximum_frame288\"\n",
    "\n",
    "# Get NEM meters (meters with export channel only)\n",
    "meters = Meter.objects.filter(channels__export=True)\n",
    "\n",
    "# run K-Means clustering algorithm\n",
    "load_clustering = KMeansLoadClustering(\n",
    "    objects=meters,\n",
    "    frame288_type=frame288_type,\n",
    "    number_of_clusters=number_of_clusters,\n",
    "    normalize=normalize\n",
    ")"
   ]
  },
  {
   "cell_type": "code",
   "execution_count": null,
   "metadata": {
    "slideshow": {
     "slide_type": "slide"
    }
   },
   "outputs": [],
   "source": [
    "# plot reference load cluster\n",
    "\n",
    "for i in sorted(set(load_clustering.cluster_labels)):\n",
    "    plot_frame288(load_clustering.get_reference_frame288_by_cluster_id(i))"
   ]
  },
  {
   "cell_type": "code",
   "execution_count": null,
   "metadata": {
    "slideshow": {
     "slide_type": "slide"
    }
   },
   "outputs": [],
   "source": [
    "# plot matching load clusters against reference\n",
    "\n",
    "for i in sorted(set(load_clustering.cluster_labels)):\n",
    "    plot_many_frame288s(\n",
    "        load_clustering.get_cluster_frame288s_by_cluster_id(i),\n",
    "        load_clustering.get_reference_frame288_by_cluster_id(i)\n",
    "    )"
   ]
  }
 ],
 "metadata": {
  "celltoolbar": "Slideshow",
  "kernelspec": {
   "display_name": "Django Shell-Plus",
   "language": "python",
   "name": "django_extensions"
  },
  "language_info": {
   "codemirror_mode": {
    "name": "ipython",
    "version": 3
   },
   "file_extension": ".py",
   "mimetype": "text/x-python",
   "name": "python",
   "nbconvert_exporter": "python",
   "pygments_lexer": "ipython3",
   "version": "3.6.7"
  }
 },
 "nbformat": 4,
 "nbformat_minor": 2
}
