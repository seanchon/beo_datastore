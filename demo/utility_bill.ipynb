{
 "cells": [
  {
   "cell_type": "markdown",
   "metadata": {
    "slideshow": {
     "slide_type": "slide"
    }
   },
   "source": [
    "Residential MCE Bill (Generation Charges Only)\n",
    "\n",
    "\"EV, Residential Rates for Electric Vehicle Owners\" plus \"Deep Green (Residential)\""
   ]
  },
  {
   "cell_type": "code",
   "execution_count": null,
   "metadata": {
    "slideshow": {
     "slide_type": "skip"
    }
   },
   "outputs": [],
   "source": [
    "import os, sys\n",
    "PWD = os.getenv('PWD')\n",
    "os.chdir(PWD)\n",
    "sys.path.insert(0, os.getenv('PWD'))\n",
    "os.environ.setdefault(\"DJANGO_SETTINGS_MODULE\", \"local_settings.py\")\n",
    "import django\n",
    "django.setup()"
   ]
  },
  {
   "cell_type": "code",
   "execution_count": null,
   "metadata": {
    "slideshow": {
     "slide_type": "skip"
    }
   },
   "outputs": [],
   "source": [
    "from cost.utility_rate.models import RatePlan\n",
    "from load.customer.models import Meter"
   ]
  },
  {
   "cell_type": "code",
   "execution_count": null,
   "metadata": {
    "slideshow": {
     "slide_type": "slide"
    }
   },
   "outputs": [],
   "source": [
    "from datetime import datetime\n",
    "\n",
    "# Step 1. Choose start and end_limit dates (Jan. 1 2018 through Jan. 31 2018)\n",
    "start = datetime(2018, 1, 1)\n",
    "end_limit = datetime(2018, 2, 1)\n",
    "\n",
    "# Step 2. Get meter data\n",
    "meter = Meter.objects.get(sa_id=8943913372)\n",
    "intervalframe = meter.intervalframe.filter_by_datetime(start=start, end_limit=end_limit)\n",
    "\n",
    "# Step 3. Get rates (OpenEI format)\n",
    "ev_plan = RatePlan.objects.get(name=\"EV, Residential Rates for Electric Vehicle Owners\")\n",
    "ev_rates = ev_plan.get_latest_rate_collection(start)\n",
    "ev_openei_rate_data = ev_rates.openei_rate_data\n",
    "\n",
    "deep_green_plan = RatePlan.objects.get(name=\"Deep Green (Residential)\")\n",
    "deep_green_rates = deep_green_plan.get_latest_rate_collection(start)\n",
    "deep_green_openei_rate_data = deep_green_rates.openei_rate_data"
   ]
  },
  {
   "cell_type": "code",
   "execution_count": null,
   "metadata": {
    "slideshow": {
     "slide_type": "slide"
    }
   },
   "outputs": [],
   "source": [
    "from beo_datastore.libs.bill import ValidationBill\n",
    "\n",
    "# Step 4. Generate bills\n",
    "ev_bill = ValidationBill(intervalframe=intervalframe, openei_rate_data=ev_openei_rate_data)\n",
    "deep_green_bill = ValidationBill(intervalframe=intervalframe, openei_rate_data=deep_green_openei_rate_data)\n",
    "\n",
    "ev_bill.dataframe\n",
    "# ev_bill.total\n",
    "# deep_green_bill\n",
    "# deep_green_bill.total"
   ]
  },
  {
   "cell_type": "code",
   "execution_count": null,
   "metadata": {
    "slideshow": {
     "slide_type": "slide"
    }
   },
   "outputs": [],
   "source": [
    "from beo_datastore.libs.bill import BillingCollection\n",
    "\n",
    "# Step 5. Consolodate bills\n",
    "bill = BillingCollection(bills=[ev_bill, deep_green_bill])\n",
    "\n",
    "bill.dataframe\n",
    "# bill.total"
   ]
  }
 ],
 "metadata": {
  "celltoolbar": "Slideshow",
  "kernelspec": {
   "display_name": "Django Shell-Plus",
   "language": "python",
   "name": "django_extensions"
  },
  "language_info": {
   "codemirror_mode": {
    "name": "ipython",
    "version": 3
   },
   "file_extension": ".py",
   "mimetype": "text/x-python",
   "name": "python",
   "nbconvert_exporter": "python",
   "pygments_lexer": "ipython3",
   "version": "3.6.7"
  }
 },
 "nbformat": 4,
 "nbformat_minor": 2
}
