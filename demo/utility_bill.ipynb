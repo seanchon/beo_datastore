{
 "cells": [
  {
   "cell_type": "markdown",
   "metadata": {
    "slideshow": {
     "slide_type": "slide"
    }
   },
   "source": [
    "Residential MCE Bill (Generation Charges Only)\n",
    "\n",
    "\"EV, Residential Rates for Electric Vehicle Owners\" plus \"Deep Green (Residential)\""
   ]
  },
  {
   "cell_type": "code",
   "execution_count": 1,
   "metadata": {
    "slideshow": {
     "slide_type": "skip"
    }
   },
   "outputs": [],
   "source": [
    "import os, sys\n",
    "PWD = os.getenv('PWD')\n",
    "os.chdir(PWD)\n",
    "sys.path.insert(0, os.getenv('PWD'))\n",
    "os.environ.setdefault(\"DJANGO_SETTINGS_MODULE\", \"local_settings.py\")\n",
    "import django\n",
    "django.setup()"
   ]
  },
  {
   "cell_type": "code",
   "execution_count": 2,
   "metadata": {
    "slideshow": {
     "slide_type": "skip"
    }
   },
   "outputs": [],
   "source": [
    "from cost.utility_rate.models import RatePlan\n",
    "from load.customer.models import Meter"
   ]
  },
  {
   "cell_type": "code",
   "execution_count": 3,
   "metadata": {
    "slideshow": {
     "slide_type": "slide"
    }
   },
   "outputs": [],
   "source": [
    "from datetime import datetime\n",
    "\n",
    "# Step 1. Choose start and end_limit dates (Jan. 2 2018 through Jan. 30 2018)\n",
    "start = datetime(2018, 1, 2)\n",
    "end_limit = datetime(2018, 1, 31)\n",
    "\n",
    "# Step 2. Get meter data\n",
    "meter = Meter.objects.get(sa_id=8943913372)\n",
    "intervalframe = meter.intervalframe.filter_by_datetime(start=start, end_limit=end_limit)\n",
    "\n",
    "# Step 3. Get rates (OpenEI format)\n",
    "ev_plan = RatePlan.objects.get(name=\"EV, Residential Rates for Electric Vehicle Owners\")\n",
    "ev_rates = ev_plan.get_latest_rate_collection(start)\n",
    "ev_openei_rate_data = ev_rates.openei_rate_data\n",
    "\n",
    "deep_green_plan = RatePlan.objects.get(name=\"Deep Green (Residential)\")\n",
    "deep_green_rates = deep_green_plan.get_latest_rate_collection(start)\n",
    "deep_green_openei_rate_data = deep_green_rates.openei_rate_data"
   ]
  },
  {
   "cell_type": "code",
   "execution_count": 4,
   "metadata": {
    "slideshow": {
     "slide_type": "slide"
    }
   },
   "outputs": [
    {
     "data": {
      "text/html": [
       "<div>\n",
       "<style scoped>\n",
       "    .dataframe tbody tr th:only-of-type {\n",
       "        vertical-align: middle;\n",
       "    }\n",
       "\n",
       "    .dataframe tbody tr th {\n",
       "        vertical-align: top;\n",
       "    }\n",
       "\n",
       "    .dataframe thead th {\n",
       "        text-align: right;\n",
       "    }\n",
       "</style>\n",
       "<table border=\"1\" class=\"dataframe\">\n",
       "  <thead>\n",
       "    <tr style=\"text-align: right;\">\n",
       "      <th></th>\n",
       "      <th>category</th>\n",
       "      <th>description</th>\n",
       "      <th>tou_period</th>\n",
       "      <th>count</th>\n",
       "      <th>count_unit</th>\n",
       "      <th>rate</th>\n",
       "      <th>rate_unit</th>\n",
       "      <th>pro_rata</th>\n",
       "      <th>total</th>\n",
       "    </tr>\n",
       "  </thead>\n",
       "  <tbody>\n",
       "    <tr>\n",
       "      <th>0</th>\n",
       "      <td>energy</td>\n",
       "      <td>Energy Charge - Winter Peak</td>\n",
       "      <td>3</td>\n",
       "      <td>88.57</td>\n",
       "      <td>kWh</td>\n",
       "      <td>0.055</td>\n",
       "      <td>$/kWh</td>\n",
       "      <td>1</td>\n",
       "      <td>4.87135</td>\n",
       "    </tr>\n",
       "    <tr>\n",
       "      <th>1</th>\n",
       "      <td>energy</td>\n",
       "      <td>Energy Charge - Winter Part-Peak</td>\n",
       "      <td>4</td>\n",
       "      <td>132.59</td>\n",
       "      <td>kWh</td>\n",
       "      <td>0.03</td>\n",
       "      <td>$/kWh</td>\n",
       "      <td>1</td>\n",
       "      <td>3.97770</td>\n",
       "    </tr>\n",
       "    <tr>\n",
       "      <th>2</th>\n",
       "      <td>energy</td>\n",
       "      <td>Energy Charge - Winter Off-Peak</td>\n",
       "      <td>5</td>\n",
       "      <td>585.02</td>\n",
       "      <td>kWh</td>\n",
       "      <td>0.03</td>\n",
       "      <td>$/kWh</td>\n",
       "      <td>1</td>\n",
       "      <td>17.55060</td>\n",
       "    </tr>\n",
       "    <tr>\n",
       "      <th>Total</th>\n",
       "      <td></td>\n",
       "      <td></td>\n",
       "      <td></td>\n",
       "      <td>806.18</td>\n",
       "      <td></td>\n",
       "      <td></td>\n",
       "      <td></td>\n",
       "      <td></td>\n",
       "      <td>26.39965</td>\n",
       "    </tr>\n",
       "  </tbody>\n",
       "</table>\n",
       "</div>"
      ],
      "text/plain": [
       "      category                       description tou_period   count  \\\n",
       "0       energy       Energy Charge - Winter Peak          3   88.57   \n",
       "1       energy  Energy Charge - Winter Part-Peak          4  132.59   \n",
       "2       energy   Energy Charge - Winter Off-Peak          5  585.02   \n",
       "Total                                                        806.18   \n",
       "\n",
       "      count_unit   rate rate_unit pro_rata     total  \n",
       "0            kWh  0.055     $/kWh        1   4.87135  \n",
       "1            kWh   0.03     $/kWh        1   3.97770  \n",
       "2            kWh   0.03     $/kWh        1  17.55060  \n",
       "Total                                       26.39965  "
      ]
     },
     "metadata": {},
     "output_type": "display_data"
    },
    {
     "data": {
      "text/html": [
       "<div>\n",
       "<style scoped>\n",
       "    .dataframe tbody tr th:only-of-type {\n",
       "        vertical-align: middle;\n",
       "    }\n",
       "\n",
       "    .dataframe tbody tr th {\n",
       "        vertical-align: top;\n",
       "    }\n",
       "\n",
       "    .dataframe thead th {\n",
       "        text-align: right;\n",
       "    }\n",
       "</style>\n",
       "<table border=\"1\" class=\"dataframe\">\n",
       "  <thead>\n",
       "    <tr style=\"text-align: right;\">\n",
       "      <th></th>\n",
       "      <th>category</th>\n",
       "      <th>description</th>\n",
       "      <th>tou_period</th>\n",
       "      <th>count</th>\n",
       "      <th>count_unit</th>\n",
       "      <th>rate</th>\n",
       "      <th>rate_unit</th>\n",
       "      <th>pro_rata</th>\n",
       "      <th>total</th>\n",
       "    </tr>\n",
       "  </thead>\n",
       "  <tbody>\n",
       "    <tr>\n",
       "      <th>0</th>\n",
       "      <td>energy</td>\n",
       "      <td>Energy Charge - Deep Green $0.01/kWh</td>\n",
       "      <td>0</td>\n",
       "      <td>806.18</td>\n",
       "      <td>kWh</td>\n",
       "      <td>0.01</td>\n",
       "      <td>$/kWh</td>\n",
       "      <td>1</td>\n",
       "      <td>8.0618</td>\n",
       "    </tr>\n",
       "    <tr>\n",
       "      <th>Total</th>\n",
       "      <td></td>\n",
       "      <td></td>\n",
       "      <td></td>\n",
       "      <td>806.18</td>\n",
       "      <td></td>\n",
       "      <td></td>\n",
       "      <td></td>\n",
       "      <td></td>\n",
       "      <td>8.0618</td>\n",
       "    </tr>\n",
       "  </tbody>\n",
       "</table>\n",
       "</div>"
      ],
      "text/plain": [
       "      category                           description tou_period   count  \\\n",
       "0       energy  Energy Charge - Deep Green $0.01/kWh          0  806.18   \n",
       "Total                                                            806.18   \n",
       "\n",
       "      count_unit  rate rate_unit pro_rata   total  \n",
       "0            kWh  0.01     $/kWh        1  8.0618  \n",
       "Total                                      8.0618  "
      ]
     },
     "metadata": {},
     "output_type": "display_data"
    }
   ],
   "source": [
    "from beo_datastore.libs.bill import ValidationBill\n",
    "\n",
    "# Step 4. Generate bills\n",
    "ev_bill = ValidationBill(intervalframe=intervalframe, openei_rate_data=ev_openei_rate_data)\n",
    "deep_green_bill = ValidationBill(intervalframe=intervalframe, openei_rate_data=deep_green_openei_rate_data)\n",
    "\n",
    "display(ev_bill.total_dataframe)\n",
    "display(deep_green_bill.total_dataframe)"
   ]
  },
  {
   "cell_type": "code",
   "execution_count": 5,
   "metadata": {
    "slideshow": {
     "slide_type": "slide"
    }
   },
   "outputs": [
    {
     "data": {
      "text/html": [
       "<div>\n",
       "<style scoped>\n",
       "    .dataframe tbody tr th:only-of-type {\n",
       "        vertical-align: middle;\n",
       "    }\n",
       "\n",
       "    .dataframe tbody tr th {\n",
       "        vertical-align: top;\n",
       "    }\n",
       "\n",
       "    .dataframe thead th {\n",
       "        text-align: right;\n",
       "    }\n",
       "</style>\n",
       "<table border=\"1\" class=\"dataframe\">\n",
       "  <thead>\n",
       "    <tr style=\"text-align: right;\">\n",
       "      <th></th>\n",
       "      <th>category</th>\n",
       "      <th>description</th>\n",
       "      <th>tou_period</th>\n",
       "      <th>count</th>\n",
       "      <th>count_unit</th>\n",
       "      <th>rate</th>\n",
       "      <th>rate_unit</th>\n",
       "      <th>pro_rata</th>\n",
       "      <th>total</th>\n",
       "    </tr>\n",
       "  </thead>\n",
       "  <tbody>\n",
       "    <tr>\n",
       "      <th>0</th>\n",
       "      <td>energy</td>\n",
       "      <td>Energy Charge - Winter Peak</td>\n",
       "      <td>3</td>\n",
       "      <td>88.57</td>\n",
       "      <td>kWh</td>\n",
       "      <td>0.055</td>\n",
       "      <td>$/kWh</td>\n",
       "      <td>1</td>\n",
       "      <td>4.87135</td>\n",
       "    </tr>\n",
       "    <tr>\n",
       "      <th>1</th>\n",
       "      <td>energy</td>\n",
       "      <td>Energy Charge - Winter Part-Peak</td>\n",
       "      <td>4</td>\n",
       "      <td>132.59</td>\n",
       "      <td>kWh</td>\n",
       "      <td>0.03</td>\n",
       "      <td>$/kWh</td>\n",
       "      <td>1</td>\n",
       "      <td>3.97770</td>\n",
       "    </tr>\n",
       "    <tr>\n",
       "      <th>2</th>\n",
       "      <td>energy</td>\n",
       "      <td>Energy Charge - Winter Off-Peak</td>\n",
       "      <td>5</td>\n",
       "      <td>585.02</td>\n",
       "      <td>kWh</td>\n",
       "      <td>0.03</td>\n",
       "      <td>$/kWh</td>\n",
       "      <td>1</td>\n",
       "      <td>17.55060</td>\n",
       "    </tr>\n",
       "    <tr>\n",
       "      <th>0</th>\n",
       "      <td>energy</td>\n",
       "      <td>Energy Charge - Deep Green $0.01/kWh</td>\n",
       "      <td>0</td>\n",
       "      <td>806.18</td>\n",
       "      <td>kWh</td>\n",
       "      <td>0.01</td>\n",
       "      <td>$/kWh</td>\n",
       "      <td>1</td>\n",
       "      <td>8.06180</td>\n",
       "    </tr>\n",
       "    <tr>\n",
       "      <th>Total</th>\n",
       "      <td></td>\n",
       "      <td></td>\n",
       "      <td></td>\n",
       "      <td>1612.36</td>\n",
       "      <td></td>\n",
       "      <td></td>\n",
       "      <td></td>\n",
       "      <td></td>\n",
       "      <td>34.46145</td>\n",
       "    </tr>\n",
       "  </tbody>\n",
       "</table>\n",
       "</div>"
      ],
      "text/plain": [
       "      category                           description tou_period    count  \\\n",
       "0       energy           Energy Charge - Winter Peak          3    88.57   \n",
       "1       energy      Energy Charge - Winter Part-Peak          4   132.59   \n",
       "2       energy       Energy Charge - Winter Off-Peak          5   585.02   \n",
       "0       energy  Energy Charge - Deep Green $0.01/kWh          0   806.18   \n",
       "Total                                                            1612.36   \n",
       "\n",
       "      count_unit   rate rate_unit pro_rata     total  \n",
       "0            kWh  0.055     $/kWh        1   4.87135  \n",
       "1            kWh   0.03     $/kWh        1   3.97770  \n",
       "2            kWh   0.03     $/kWh        1  17.55060  \n",
       "0            kWh   0.01     $/kWh        1   8.06180  \n",
       "Total                                       34.46145  "
      ]
     },
     "execution_count": 5,
     "metadata": {},
     "output_type": "execute_result"
    }
   ],
   "source": [
    "from beo_datastore.libs.bill import BillingCollection\n",
    "\n",
    "# Step 5. Consolodate bills\n",
    "bill = BillingCollection(bills=[ev_bill, deep_green_bill])\n",
    "\n",
    "bill.total_dataframe"
   ]
  },
  {
   "cell_type": "code",
   "execution_count": null,
   "metadata": {},
   "outputs": [],
   "source": []
  }
 ],
 "metadata": {
  "celltoolbar": "Slideshow",
  "kernelspec": {
   "display_name": "Django Shell-Plus",
   "language": "python",
   "name": "django_extensions"
  },
  "language_info": {
   "codemirror_mode": {
    "name": "ipython",
    "version": 3
   },
   "file_extension": ".py",
   "mimetype": "text/x-python",
   "name": "python",
   "nbconvert_exporter": "python",
   "pygments_lexer": "ipython3",
   "version": "3.6.7"
  }
 },
 "nbformat": 4,
 "nbformat_minor": 2
}
