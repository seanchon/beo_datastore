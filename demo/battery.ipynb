{
 "cells": [
  {
   "cell_type": "markdown",
   "metadata": {
    "slideshow": {
     "slide_type": "slide"
    }
   },
   "source": [
    "Battery Operations to Utilitize NEM Excess Generation"
   ]
  },
  {
   "cell_type": "code",
   "execution_count": null,
   "metadata": {
    "slideshow": {
     "slide_type": "skip"
    }
   },
   "outputs": [],
   "source": [
    "import os, sys\n",
    "PWD = os.getenv('PWD')\n",
    "os.chdir(PWD)\n",
    "sys.path.insert(0, os.getenv('PWD'))\n",
    "os.environ.setdefault(\"DJANGO_SETTINGS_MODULE\", \"local_settings.py\")\n",
    "import django\n",
    "django.setup()"
   ]
  },
  {
   "cell_type": "code",
   "execution_count": null,
   "metadata": {
    "slideshow": {
     "slide_type": "skip"
    }
   },
   "outputs": [],
   "source": [
    "from datetime import timedelta\n",
    "import numpy as np\n",
    "\n",
    "from beo_datastore.libs.battery import Battery, FixedScheduleBatteryIntervalFrame, PeakShavingSimulator\n",
    "\n",
    "from load.customer.models import Meter"
   ]
  },
  {
   "cell_type": "code",
   "execution_count": null,
   "metadata": {
    "slideshow": {
     "slide_type": "slide"
    }
   },
   "outputs": [],
   "source": [
    "# Get Meter Data\n",
    "meter = Meter.objects.first()\n",
    "\n",
    "# Configure Battery\n",
    "battery = Battery(rating=5, discharge_duration=timedelta(hours=4), efficiency=0.9, charge=0)\n",
    "\n",
    "meter.intervalframe.total_frame288.dataframe"
   ]
  },
  {
   "cell_type": "code",
   "execution_count": null,
   "metadata": {
    "slideshow": {
     "slide_type": "slide"
    }
   },
   "outputs": [],
   "source": [
    "# Generate optimal charge/discharge schedules using exports only\n",
    "exports_charge_schedule, exports_discharge_schedule = PeakShavingSimulator.optimize_schedules_with_exports(\n",
    "    battery, meter.intervalframe\n",
    ")\n",
    "# Generate optimal charge/discharge schedules using exports and grid\n",
    "grid_charge_schedule, grid_discharge_schedule = PeakShavingSimulator.optimize_schedules_with_grid(\n",
    "    battery, meter.intervalframe\n",
    ")"
   ]
  },
  {
   "cell_type": "code",
   "execution_count": null,
   "metadata": {
    "slideshow": {
     "slide_type": "slide"
    }
   },
   "outputs": [],
   "source": [
    "# Examine Charge/Discharge Schedules\n",
    "exports_charge_schedule.dataframe\n",
    "# exports_discharge_schedule.dataframe\n",
    "# grid_charge_schedule.dataframe\n",
    "# grid_discharge_schedule.dataframe"
   ]
  },
  {
   "cell_type": "code",
   "execution_count": null,
   "metadata": {
    "slideshow": {
     "slide_type": "slide"
    }
   },
   "outputs": [],
   "source": [
    "# Run Battery Operations\n",
    "exports_intervalframe = FixedScheduleBatteryIntervalFrame(\n",
    "    battery=battery,\n",
    "    load_intervalframe=meter.intervalframe,\n",
    "    charge_schedule=exports_charge_schedule,\n",
    "    discharge_schedule=exports_discharge_schedule,\n",
    ")\n",
    "exports_intervalframe.generate_full_sequence()\n",
    "grid_intervalframe = FixedScheduleBatteryIntervalFrame(\n",
    "    battery=battery,\n",
    "    load_intervalframe=meter.intervalframe,\n",
    "    charge_schedule=grid_charge_schedule,\n",
    "    discharge_schedule=grid_discharge_schedule,\n",
    ")\n",
    "grid_intervalframe.generate_full_sequence()"
   ]
  },
  {
   "cell_type": "code",
   "execution_count": null,
   "metadata": {
    "slideshow": {
     "slide_type": "slide"
    }
   },
   "outputs": [],
   "source": [
    "# Examine Impact on Peak Load\n",
    "exports_intervalframe.compare_peak_loads()\n",
    "# grid_intervalframe.compare_peak_loads()"
   ]
  },
  {
   "cell_type": "code",
   "execution_count": null,
   "metadata": {
    "slideshow": {
     "slide_type": "slide"
    }
   },
   "outputs": [],
   "source": [
    "# Examine Impact on Hourly Averages\n",
    "month = 7\n",
    "exports_intervalframe.compare_month_hours(7, np.mean)\n",
    "# grid_intervalframe.compare_month_hours(7, np.mean)"
   ]
  },
  {
   "cell_type": "code",
   "execution_count": null,
   "metadata": {},
   "outputs": [],
   "source": [
    "# Examine Battery Operations per Interval\n",
    "exports_intervalframe.combined_dataframe\n",
    "# grid_intervalframe.combined_dataframe"
   ]
  }
 ],
 "metadata": {
  "celltoolbar": "Slideshow",
  "kernelspec": {
   "display_name": "Django Shell-Plus",
   "language": "python",
   "name": "django_extensions"
  },
  "language_info": {
   "codemirror_mode": {
    "name": "ipython",
    "version": 3
   },
   "file_extension": ".py",
   "mimetype": "text/x-python",
   "name": "python",
   "nbconvert_exporter": "python",
   "pygments_lexer": "ipython3",
   "version": "3.6.7"
  }
 },
 "nbformat": 4,
 "nbformat_minor": 2
}
