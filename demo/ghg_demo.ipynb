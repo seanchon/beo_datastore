{
 "cells": [
  {
   "cell_type": "markdown",
   "metadata": {
    "slideshow": {
     "slide_type": "slide"
    }
   },
   "source": [
    "Anonymous NEM Customer GHG cost calculation based off of Clean Net Short Tables"
   ]
  },
  {
   "cell_type": "code",
   "execution_count": null,
   "metadata": {
    "slideshow": {
     "slide_type": "skip"
    }
   },
   "outputs": [],
   "source": [
    "import os, sys\n",
    "PWD = os.getenv('PWD')\n",
    "os.chdir(PWD)\n",
    "sys.path.insert(0, os.getenv('PWD'))\n",
    "os.environ.setdefault(\"DJANGO_SETTINGS_MODULE\", \"local_settings.py\")\n",
    "import django\n",
    "django.setup()"
   ]
  },
  {
   "cell_type": "code",
   "execution_count": null,
   "metadata": {
    "slideshow": {
     "slide_type": "slide"
    }
   },
   "outputs": [],
   "source": [
    "# 288 Format for Load Data\n",
    "# Energy Meter Export Channel\n",
    "\n",
    "from load.customer.models import ServiceDrop\n",
    "\n",
    "service_drop = ServiceDrop.objects.get(id=1)\n",
    "meter_1 = service_drop.meters.first()\n",
    "meter_2 = service_drop.meters.last()\n",
    "\n",
    "meter_1.intervalframe.dataframe\n",
    "# meter_1.average_288\n",
    "# meter_1.peak_288\n",
    "# meter_1.count_288\n",
    "# meter_1.total_288"
   ]
  },
  {
   "cell_type": "code",
   "execution_count": null,
   "metadata": {
    "slideshow": {
     "slide_type": "slide"
    }
   },
   "outputs": [],
   "source": [
    "# Energy Meter Import Channel\n",
    "\n",
    "meter_2.total_288"
   ]
  },
  {
   "cell_type": "code",
   "execution_count": null,
   "metadata": {
    "slideshow": {
     "slide_type": "slide"
    }
   },
   "outputs": [],
   "source": [
    "# Net Meter Total\n",
    "\n",
    "net_meter_total = meter_1.total_288 + meter_2.total_288\n",
    "net_meter_total"
   ]
  },
  {
   "cell_type": "code",
   "execution_count": null,
   "metadata": {
    "slideshow": {
     "slide_type": "slide"
    }
   },
   "outputs": [],
   "source": [
    "# Clean Net Short - GHG Cost (tCO2/kWh)\n",
    "\n",
    "from cost.ghg.models import GHGRate\n",
    "\n",
    "cns = GHGRate.objects.get(name=\"Clean Net Short\", effective__year=2018)\n",
    "cns.lookup_table.dataframe"
   ]
  },
  {
   "cell_type": "code",
   "execution_count": null,
   "metadata": {
    "slideshow": {
     "slide_type": "slide"
    }
   },
   "outputs": [],
   "source": [
    "# Example GHG Cost Calculation\n",
    "# (288 Net Meter x 288 GHG CNS)\n",
    "\n",
    "ghg_totals = net_meter_total * GHGRate.objects.get(name=\"Clean Net Short\", effective__year=2018).lookup_table.dataframe\n",
    "ghg_totals"
   ]
  },
  {
   "cell_type": "code",
   "execution_count": null,
   "metadata": {
    "slideshow": {
     "slide_type": "slide"
    }
   },
   "outputs": [],
   "source": [
    "# GHG Content from Building's Electricity Usage (tCO2/year)\n",
    "\n",
    "ghg_totals = net_meter_total * GHGRate.objects.get(name=\"Clean Net Short\", effective__year=2018).lookup_table.dataframe\n",
    "ghg_totals.sum().sum()"
   ]
  }
 ],
 "metadata": {
  "celltoolbar": "Slideshow",
  "kernelspec": {
   "display_name": "Django Shell-Plus",
   "language": "python",
   "name": "django_extensions"
  },
  "language_info": {
   "codemirror_mode": {
    "name": "ipython",
    "version": 3
   },
   "file_extension": ".py",
   "mimetype": "text/x-python",
   "name": "python",
   "nbconvert_exporter": "python",
   "pygments_lexer": "ipython3",
   "version": "3.6.7"
  }
 },
 "nbformat": 4,
 "nbformat_minor": 2
}
